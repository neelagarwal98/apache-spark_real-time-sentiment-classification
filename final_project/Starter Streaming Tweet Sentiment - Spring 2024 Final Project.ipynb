{
 "cells": [
  {
   "cell_type": "markdown",
   "metadata": {
    "application/vnd.databricks.v1+cell": {
     "cellMetadata": {},
     "inputWidgets": {},
     "nuid": "fc749083-2211-485c-943f-640e198b2c70",
     "showTitle": false,
     "title": ""
    }
   },
   "source": [
    "## DSCC202-402 Data Science at Scale Final Project\n",
    "### Tracking Tweet sentiment at scale using a pretrained transformer (classifier)\n",
    "<p>Consider the following illustration of the end to end system that you will be building.  Each student should do their own work.  The project will demonstrate your understanding of Spark Streaming, the medalion data architecture using Delta Lake, Spark Inference at Scale using an MLflow packaged model as well as Exploritory Data Analysis and System Tracking and Monitoring.</p>\n",
    "<br><br>\n",
    "<img src=\"https://data-science-at-scale.s3.amazonaws.com/images/pipeline.drawio.png\">\n",
    "\n",
    "<p>\n",
    "You will be pulling an updated copy of the course GitHub repositiory: <a href=\"https://github.com/lpalum/dscc202-402-spring2024\">The Repo</a>.  If you are unclear on how to pull an updated copy using the GitHub command line, the following <a href=\"https://techwritingmatters.com/how-to-update-your-forked-repository-on-github\">document</a> is helpful.  Be sure to add the professors and TAs as collaborators on your project. \n",
    "\n",
    "- lpalum@gmail.com GitHub ID: lpalum\n",
    "- ajay.anand@rochester.edu GitHub ID: ajayan12\n",
    "- divyamunot1999@gmail.com GitHub ID: divyamunot\n",
    "- ylong6@u.Rochester.edu GitHub ID: NinaLong2077\n",
    "\n",
    "Once you have updates your fork of the repository you should see the following template project that is resident in the final_project directory.\n",
    "</p>\n",
    "\n",
    "<img src=\"https://data-science-at-scale.s3.amazonaws.com/images/notebooks.drawio.png\">\n",
    "\n",
    "<p>\n",
    "You can then pull your project into the Databrick Workspace using the <a href=\"https://www.databricks.training/step-by-step/importing-courseware-from-github/index.html\">Repos</a> feature.\n",
    "Each student is expected to submit the URL of their project on GitHub with their code checked in on the main/master branch.  This illustration highlights the branching scheme that you may use to work on your code in steps and then merge your submission into your master branch before submitting.\n",
    "</p>\n",
    "<img src=\"https://data-science-at-scale.s3.amazonaws.com/images/github.drawio.png\">\n",
    "<p>\n",
    "Work your way through this notebook which will give you the steps required to submit a complete and compliant project.  The following illustration and associated data dictionary specifies the transformations and data that you are to generate for each step in the medallion pipeline.\n",
    "</p>\n",
    "<br><br>\n",
    "<img src=\"https://data-science-at-scale.s3.amazonaws.com/images/dataframes.drawio.png\">\n",
    "\n",
    "#### Bronze Data - raw ingest\n",
    "- date - string in the source json\n",
    "- user - string in the source json\n",
    "- text - tweet string in the source json\n",
    "- sentiment - the given sentiment of the text as determined by an unknown model that is provided in the source json\n",
    "- source_file - the path of the source json file the this row of data was read from\n",
    "- processing_time - a timestamp of when you read this row from the source json\n",
    "\n",
    "#### Silver Data - Bronze Preprocessing\n",
    "- timestamp - convert date string in the bronze data to a timestamp\n",
    "- mention - every @username mentioned in the text string in the bronze data gets a row in this silver data table.\n",
    "- cleaned_text - the bronze text data with the mentions (@username) removed.\n",
    "- sentiment - the given sentiment that was associated with the text in the bronze table.\n",
    "\n",
    "#### Gold Data - Silver Table Inference\n",
    "- timestamp - the timestamp from the silver data table rows\n",
    "- mention - the mention from the silver data table rows\n",
    "- cleaned_text - the cleaned_text from the silver data table rows\n",
    "- sentiment - the given sentiment from the silver data table rows\n",
    "- predicted_score - score out of 100 from the Hugging Face Sentiment Transformer\n",
    "- predicted_sentiment - string representation of the sentiment\n",
    "- sentiment_id - 0 for negative and 1 for postive associated with the given sentiment\n",
    "- predicted_sentiment_id - 0 for negative and 1 for positive assocaited with the Hugging Face Sentiment Transformer\n",
    "\n",
    "#### Application Data - Gold Table Aggregation\n",
    "- min_timestamp - the oldest timestamp on a given mention (@username)\n",
    "- max_timestamp - the newest timestamp on a given mention (@username)\n",
    "- mention - the user (@username) that this row pertains to.\n",
    "- negative - total negative tweets directed at this mention (@username)\n",
    "- neutral - total neutral tweets directed at this mention (@username)\n",
    "- positive - total positive tweets directed at this mention (@username)\n",
    "\n",
    "When you are designing your approach, one of the main decisions that you will need to make is how you are going to orchestrate the streaming data processing in your pipeline.  There are several valid approaches.  First, you may choose to start the bronze_stream and let it complete (read and append all of the source data) before preceeding and starting up the silver_stream.  This approach has latency associated with it but it will allow your code to proceed in a linear fashion and process all the data by the end of your notebook execution.  Another potential approach is to start all the streams and have a \"watch\" method to determine when the pipeline has processed sufficient or all of the source data before stopping and displaying results.  Both of these approaches are valid and have different implications on how you will trigger your steams and how you will gate the execution of your pipeline.  Think through how you want to proceed and ask questions if you need guidance. The following references may be helpful:\n",
    "- [Spark Structured Streaming Programming Guide](https://spark.apache.org/docs/latest/structured-streaming-programming-guide.html)\n",
    "- [Databricks Autoloader - Cloudfiles](https://docs.databricks.com/en/ingestion/auto-loader/index.html)\n",
    "\n",
    "### Be sure that your project runs end to end when *Run all* is executued on this notebook! (15 Points out of 60)"
   ]
  },
  {
   "cell_type": "code",
   "execution_count": 0,
   "metadata": {
    "application/vnd.databricks.v1+cell": {
     "cellMetadata": {
      "byteLimit": 2048000,
      "rowLimit": 10000
     },
     "inputWidgets": {},
     "nuid": "068f25d0-1387-4342-89cf-ce82a8d614ce",
     "showTitle": true,
     "title": "Pull in the Includes & Utiltites"
    }
   },
   "outputs": [],
   "source": [
    "%run ./includes/includes"
   ]
  },
  {
   "cell_type": "code",
   "execution_count": 0,
   "metadata": {
    "application/vnd.databricks.v1+cell": {
     "cellMetadata": {
      "byteLimit": 2048000,
      "rowLimit": 10000
     },
     "inputWidgets": {},
     "nuid": "6512bf1b-50e0-4a4b-84a9-e280a6260b56",
     "showTitle": true,
     "title": "Notebook Control Widgets (maybe helpful)"
    }
   },
   "outputs": [],
   "source": [
    "\"\"\"\n",
    "Adding a widget to the notebook to control the clearing of a previous run.\n",
    "or stopping the active streams using routines defined in the utilities notebook\n",
    "\"\"\"\n",
    "dbutils.widgets.removeAll()\n",
    "\n",
    "dbutils.widgets.dropdown(\"clear_previous_run\", \"No\", [\"No\",\"Yes\"])\n",
    "if (getArgument(\"clear_previous_run\") == \"Yes\"):\n",
    "    clear_previous_run()\n",
    "    print(\"Cleared all previous data.\")\n",
    "\n",
    "dbutils.widgets.dropdown(\"stop_streams\", \"No\", [\"No\",\"Yes\"])\n",
    "if (getArgument(\"stop_streams\") == \"Yes\"):\n",
    "    stop_all_streams()\n",
    "    print(\"Stopped all active streams.\")\n",
    "\n",
    "from delta import *\n",
    "dbutils.widgets.dropdown(\"optimize_tables\", \"No\", [\"No\",\"Yes\"])\n",
    "if (getArgument(\"optimize_tables\") == \"Yes\"):\n",
    "    # Suck up those small files that we have been appending.\n",
    "    DeltaTable.forPath(spark, BRONZE_DELTA).optimize().executeCompaction()\n",
    "    # Suck up those small files that we have been appending.\n",
    "    DeltaTable.forPath(spark, SILVER_DELTA).optimize().executeCompaction()\n",
    "    # Suck up those small files that we have been appending.\n",
    "    DeltaTable.forPath(spark, GOLD_DELTA).optimize().executeCompaction()\n",
    "    print(\"Optimized all of the Delta Tables\")"
   ]
  },
  {
   "cell_type": "markdown",
   "metadata": {
    "application/vnd.databricks.v1+cell": {
     "cellMetadata": {},
     "inputWidgets": {},
     "nuid": "e8ce7c13-7f8f-4e11-b50c-fdaebbcf3f99",
     "showTitle": false,
     "title": ""
    }
   },
   "source": [
    "## 1.0 Import your libraries here...\n",
    "- Are your shuffle partitions consistent with your cluster and your workload?\n",
    "- Do you have the necessary libraries to perform the required operations in the pipeline/application?"
   ]
  },
  {
   "cell_type": "code",
   "execution_count": 0,
   "metadata": {
    "application/vnd.databricks.v1+cell": {
     "cellMetadata": {
      "byteLimit": 2048000,
      "rowLimit": 10000
     },
     "inputWidgets": {},
     "nuid": "67bafbb7-d34e-4e86-b159-b2e062faa1d0",
     "showTitle": false,
     "title": ""
    }
   },
   "outputs": [],
   "source": [
    "# since we have 4 cores in our cluster, we set the number of partitions to 4\n",
    "spark.conf.set('spark.sql.shuffle.partitions', '4')\n",
    "from pyspark.sql.functions import *\n",
    "from matplotlib import pyplot as plt\n",
    "import mlflow\n",
    "import mlflow.metrics as metrics\n",
    "from sklearn.metrics import confusion_matrix, ConfusionMatrixDisplay, precision_score, recall_score, f1_score\n",
    "import pandas as pd\n",
    "from delta.tables import DeltaTable"
   ]
  },
  {
   "cell_type": "markdown",
   "metadata": {
    "application/vnd.databricks.v1+cell": {
     "cellMetadata": {},
     "inputWidgets": {},
     "nuid": "2b7624b4-0aa5-46b7-9767-52f462b2c574",
     "showTitle": false,
     "title": ""
    }
   },
   "source": [
    "## 2.0 Use the utility functions to ...\n",
    "- Read the source file directory listing\n",
    "- Count the source files (how many are there?)\n",
    "- print the contents of one of the files"
   ]
  },
  {
   "cell_type": "code",
   "execution_count": 0,
   "metadata": {
    "application/vnd.databricks.v1+cell": {
     "cellMetadata": {
      "byteLimit": 2048000,
      "rowLimit": 10000
     },
     "inputWidgets": {},
     "nuid": "a59749d5-e45d-460f-9be1-33652cda2ea5",
     "showTitle": false,
     "title": ""
    }
   },
   "outputs": [],
   "source": [
    "# ENTER YOUR CODE HERE\n",
    "df1 = get_source_listing_df()\n",
    "df1"
   ]
  },
  {
   "cell_type": "code",
   "execution_count": 0,
   "metadata": {
    "application/vnd.databricks.v1+cell": {
     "cellMetadata": {
      "byteLimit": 2048000,
      "rowLimit": 10000
     },
     "inputWidgets": {},
     "nuid": "30f93f3f-4e04-4214-b777-fc8efb0fc6a0",
     "showTitle": false,
     "title": ""
    }
   },
   "outputs": [],
   "source": [
    "# displaying the total number of files \n",
    "files_count = df1.count()\n",
    "display(files_count)"
   ]
  },
  {
   "cell_type": "code",
   "execution_count": 0,
   "metadata": {
    "application/vnd.databricks.v1+cell": {
     "cellMetadata": {
      "byteLimit": 2048000,
      "rowLimit": 10000
     },
     "inputWidgets": {},
     "nuid": "c97709be-1181-4766-a504-ad339c07209d",
     "showTitle": false,
     "title": ""
    }
   },
   "outputs": [],
   "source": [
    "# showing the contents of a json file\n",
    "show_s3_file_contents(df1.loc[0]['File Name'])"
   ]
  },
  {
   "cell_type": "markdown",
   "metadata": {
    "application/vnd.databricks.v1+cell": {
     "cellMetadata": {},
     "inputWidgets": {},
     "nuid": "1676aed7-527f-4ea7-9d3b-52544e8c1e37",
     "showTitle": false,
     "title": ""
    }
   },
   "source": [
    "## 3.0 Transform the Raw Data to Bronze Data using a stream\n",
    "- define the schema for the raw data\n",
    "- setup a read stream using cloudfiles and the source data format\n",
    "- setup a write stream using cloudfiles to append to the bronze delta table\n",
    "- enforce schema\n",
    "- allow a new schema to be merged into the bronze delta table\n",
    "- Use the defined BRONZE_CHECKPOINT and BRONZE_DELTA paths defines in the includes\n",
    "- name your raw to bronze stream as bronze_stream\n",
    "- transform the raw data to the bronze data using the data definition at the top of the notebook"
   ]
  },
  {
   "cell_type": "code",
   "execution_count": 0,
   "metadata": {
    "application/vnd.databricks.v1+cell": {
     "cellMetadata": {
      "byteLimit": 2048000,
      "rowLimit": 10000
     },
     "inputWidgets": {},
     "nuid": "c4e37574-9885-4908-bf97-609d140a8818",
     "showTitle": false,
     "title": ""
    }
   },
   "outputs": [],
   "source": [
    "# Defining the schema for the raw data \n",
    "from pyspark.sql import SparkSession \n",
    "spark = SparkSession.builder.getOrCreate()\n",
    "\n",
    "from pyspark.sql.types import StructType, StructField, StringType, TimestampType\n",
    "schemaBronze = StructType([\n",
    "    StructField(\"date\", StringType(), True),\n",
    "    StructField(\"user\", StringType(), True),\n",
    "    StructField(\"text\", StringType(), True),\n",
    "    StructField(\"sentiment\", StringType(), True),\n",
    "    StructField(\"source_file\", StringType(), True),\n",
    "    StructField(\"processing_time\", TimestampType(), True),\n",
    "])\n",
    "\n",
    "display(schemaBronze)\n"
   ]
  },
  {
   "cell_type": "code",
   "execution_count": 0,
   "metadata": {
    "application/vnd.databricks.v1+cell": {
     "cellMetadata": {
      "byteLimit": 2048000,
      "rowLimit": 10000
     },
     "inputWidgets": {},
     "nuid": "6419455b-c69a-48b6-b8dc-303a2e72b0dd",
     "showTitle": false,
     "title": ""
    }
   },
   "outputs": [],
   "source": [
    "# Setting the bronze stream using cloudfiles and source data format\n",
    "\n",
    "bronze_stream = (spark\n",
    "            .readStream\n",
    "            .format(\"cloudFiles\")\n",
    "            .option(\"cloudFiles.format\",\"json\")\n",
    "            .option(\"mergeSchema\",True)\n",
    "            .schema(schemaBronze)\n",
    "            .load(TWEET_SOURCE_PATH)\n",
    "            .withColumn(\"processing_time\", current_timestamp())\n",
    "            .withColumn(\"source_file\", input_file_name())\n",
    "            .writeStream\n",
    "            .format(\"delta\")\n",
    "            .outputMode(\"append\")\n",
    "            .option(\"checkpointLocation\", BRONZE_CHECKPOINT)\n",
    "            .trigger(availableNow=True)\n",
    "            .start(BRONZE_DELTA)\n",
    "            )"
   ]
  },
  {
   "cell_type": "code",
   "execution_count": 0,
   "metadata": {
    "application/vnd.databricks.v1+cell": {
     "cellMetadata": {},
     "inputWidgets": {},
     "nuid": "3094d24c-071a-419c-8ac0-b92316b22408",
     "showTitle": false,
     "title": ""
    }
   },
   "outputs": [],
   "source": [
    "bronze_stream.awaitTermination()"
   ]
  },
  {
   "cell_type": "markdown",
   "metadata": {
    "application/vnd.databricks.v1+cell": {
     "cellMetadata": {},
     "inputWidgets": {},
     "nuid": "9bc3e824-d218-43e5-a43b-4c6dbe31950d",
     "showTitle": false,
     "title": ""
    }
   },
   "source": [
    "## 4.0 Bronze Data Exploratory Data Analysis\n",
    "- How many tweets are captured in your Bronze Table?\n",
    "- Are there any columns that contain Nan or Null values?  If so how many and what will you do in your silver transforms to address this?\n",
    "- Count the number of tweets by each unique user handle and sort the data by descending count.\n",
    "- How many tweets have at least one mention (@) how many tweet have no mentions (@)\n",
    "- Plot a bar chart that shows the top 20 tweeters (users)\n"
   ]
  },
  {
   "cell_type": "code",
   "execution_count": 0,
   "metadata": {
    "application/vnd.databricks.v1+cell": {
     "cellMetadata": {
      "byteLimit": 2048000,
      "rowLimit": 10000
     },
     "inputWidgets": {},
     "nuid": "091ec59c-d968-4acf-b56f-cc9178cd0693",
     "showTitle": false,
     "title": ""
    }
   },
   "outputs": [],
   "source": [
    "# viewing the bronze table\n",
    "df_b = (spark\n",
    "            .read\n",
    "            .format(\"delta\")\n",
    "            .load(BRONZE_DELTA))\n",
    "\n",
    "display(df_b)"
   ]
  },
  {
   "cell_type": "code",
   "execution_count": 0,
   "metadata": {
    "application/vnd.databricks.v1+cell": {
     "cellMetadata": {
      "byteLimit": 2048000,
      "rowLimit": 10000
     },
     "inputWidgets": {},
     "nuid": "b0ba130b-5ba7-446f-a9dc-cd443f0f17a2",
     "showTitle": false,
     "title": ""
    }
   },
   "outputs": [],
   "source": [
    "# getting the number of tweets\n",
    "tweets = df_b.count()\n",
    "print(\"No. of tweets:\",tweets)"
   ]
  },
  {
   "cell_type": "code",
   "execution_count": 0,
   "metadata": {
    "application/vnd.databricks.v1+cell": {
     "cellMetadata": {
      "byteLimit": 2048000,
      "rowLimit": 10000
     },
     "inputWidgets": {},
     "nuid": "c5f6ebbb-c8a5-4ac2-8418-9161476024b8",
     "showTitle": false,
     "title": ""
    }
   },
   "outputs": [],
   "source": [
    "# getting total nulls \n",
    "nulls = []\n",
    "for col_name in df_b.columns:\n",
    "    null_count = df_b.filter(col(col_name).isNull()).count()\n",
    "    nulls.append((col_name, null_count))\n",
    "    \n",
    "for col_name, null_count in nulls:\n",
    "    print(col_name, null_count)\n"
   ]
  },
  {
   "cell_type": "code",
   "execution_count": 0,
   "metadata": {
    "application/vnd.databricks.v1+cell": {
     "cellMetadata": {
      "byteLimit": 2048000,
      "rowLimit": 10000
     },
     "inputWidgets": {},
     "nuid": "2ad442a2-1c9e-45f0-a309-6b678d491a2a",
     "showTitle": false,
     "title": ""
    }
   },
   "outputs": [],
   "source": [
    "# getting total nans\n",
    "nans = []\n",
    "for col_name in df_b.columns:\n",
    "    if col_name != 'processing_time':   # we do not check for 'processing_time' is it is a timestamp and cannot be NaN\n",
    "        nan_count = df_b.filter(isnan(col(col_name))).count()\n",
    "        nans.append((col_name, nan_count))\n",
    "    \n",
    "    \n",
    "for col_name, nan_count in nans:\n",
    "    print(col_name, nan_count)"
   ]
  },
  {
   "cell_type": "code",
   "execution_count": 0,
   "metadata": {
    "application/vnd.databricks.v1+cell": {
     "cellMetadata": {
      "byteLimit": 2048000,
      "rowLimit": 10000
     },
     "inputWidgets": {},
     "nuid": "922c4b39-11ab-4a62-ae7b-851b15ca8046",
     "showTitle": false,
     "title": ""
    }
   },
   "outputs": [],
   "source": [
    "# Counting the number of tweets by each unique user handle and sort the data by descending count\n",
    "tweets_user = (df_b\n",
    "                .groupBy(\"user\").count()\n",
    "                .sort(desc(\"count\")))\n",
    "\n",
    "display(tweets_user)"
   ]
  },
  {
   "cell_type": "code",
   "execution_count": 0,
   "metadata": {
    "application/vnd.databricks.v1+cell": {
     "cellMetadata": {
      "byteLimit": 2048000,
      "rowLimit": 10000
     },
     "inputWidgets": {},
     "nuid": "0afa6bd0-dbf8-4517-a503-1a1066cbcc2c",
     "showTitle": false,
     "title": ""
    }
   },
   "outputs": [],
   "source": [
    "# Counts of tweets with at least one mention and with no mentions\n",
    "\n",
    "mentions_df = df_b.withColumn(\"mentions\", when(col(\"text\").contains(\"@\"), True).otherwise(False))\n",
    "mentions_count = mentions_df.filter(col(\"mentions\") == True).count()\n",
    "no_mentions_count = mentions_df.filter(col(\"mentions\") == False).count()\n",
    "\n",
    "print(\"No. of tweets with at least one mention\",mentions_count)\n",
    "print(\"No. of tweets with no mentions\",no_mentions_count)"
   ]
  },
  {
   "cell_type": "code",
   "execution_count": 0,
   "metadata": {
    "application/vnd.databricks.v1+cell": {
     "cellMetadata": {
      "byteLimit": 2048000,
      "rowLimit": 10000
     },
     "inputWidgets": {},
     "nuid": "a7a3f072-12d7-4509-9f46-d18c98971ff9",
     "showTitle": false,
     "title": ""
    }
   },
   "outputs": [],
   "source": [
    "# bar chart for top 20 tweeters\n",
    "\n",
    "pandas_tweet_user = tweets_user.limit(20).toPandas() # conversion for using pyplot\n",
    "\n",
    "plt.figure(figsize=(10, 6))\n",
    "plt.bar(pandas_tweet_user['user'], pandas_tweet_user['count'], color='green')\n",
    "plt.xlabel('USER')\n",
    "plt.ylabel('TWEETS')\n",
    "plt.title('Bar chart for tweet counts of top 20 tweeters')\n",
    "plt.xticks(rotation=90)\n",
    "plt.show()"
   ]
  },
  {
   "cell_type": "markdown",
   "metadata": {
    "application/vnd.databricks.v1+cell": {
     "cellMetadata": {},
     "inputWidgets": {},
     "nuid": "38c290b9-a42a-4551-857b-3f461b8a1be6",
     "showTitle": false,
     "title": ""
    }
   },
   "source": [
    "## 5.0 Transform the Bronze Data to Silver Data using a stream\n",
    "- setup a read stream on your bronze delta table\n",
    "- setup a write stream to append to the silver delta table\n",
    "- Use the defined SILVER_CHECKPOINT and SILVER_DELTA paths in the includes\n",
    "- name your bronze to silver stream as silver_stream\n",
    "- transform the bronze data to the silver data using the data definition at the top of the notebook"
   ]
  },
  {
   "cell_type": "code",
   "execution_count": 0,
   "metadata": {
    "application/vnd.databricks.v1+cell": {
     "cellMetadata": {
      "byteLimit": 2048000,
      "rowLimit": 10000
     },
     "inputWidgets": {},
     "nuid": "65b029cb-ba45-4625-a9c1-d0d410a4962b",
     "showTitle": false,
     "title": ""
    }
   },
   "outputs": [],
   "source": [
    "# reading from the bronze table\n",
    "read_bronze = (\n",
    "    spark.readStream\n",
    "    .format('delta')\n",
    "    .load(BRONZE_DELTA)\n",
    ")"
   ]
  },
  {
   "cell_type": "code",
   "execution_count": 0,
   "metadata": {
    "application/vnd.databricks.v1+cell": {
     "cellMetadata": {
      "byteLimit": 2048000,
      "rowLimit": 10000
     },
     "inputWidgets": {},
     "nuid": "bb183e17-ad63-4616-bb32-865beeff4ad0",
     "showTitle": false,
     "title": ""
    }
   },
   "outputs": [],
   "source": [
    "# bronze to silver conversions\n",
    "\n",
    "# needs to be set for timestamp conversion to work\n",
    "spark.conf.set(\"spark.sql.legacy.timeParserPolicy\",\"LEGACY\")\n",
    "df_bronze_to_silver = read_bronze.withColumn(\"timestamp\", to_timestamp(\"date\", \"E MMM dd HH:mm:ss z yyyy\"))\n",
    "df_bronze_to_silver = df_bronze_to_silver.withColumn(\"all_mentions\", expr(\"regexp_extract_all(text, '(?<=^|(?<=[^a-zA-Z0-9-_\\\\\\\\.]))@([A-Za-z]+[A-Za-z0-9_]+)', 0)\"))\n",
    "df_bronze_to_silver = df_bronze_to_silver.withColumn(\"mention\", explode(col(\"all_mentions\"))).drop(\"all_mentions\")\n",
    "df_bronze_to_silver = df_bronze_to_silver.withColumn(\"cleaned_text\", regexp_replace(\"text\", \"(@\\\\w+)\", \"\"))\n",
    "df_bronze_to_silver = df_bronze_to_silver.drop(\"date\", \"user\", \"text\", \"source_file\", \"processing_time\")\n",
    "df_bronze_to_silver"
   ]
  },
  {
   "cell_type": "code",
   "execution_count": 0,
   "metadata": {
    "application/vnd.databricks.v1+cell": {
     "cellMetadata": {
      "byteLimit": 2048000,
      "rowLimit": 10000
     },
     "inputWidgets": {},
     "nuid": "af1735e7-d9a8-4a9c-850e-dde4683e369a",
     "showTitle": false,
     "title": ""
    }
   },
   "outputs": [],
   "source": [
    "# starting the stream for silver table\n",
    "silver_stream = (df_bronze_to_silver.writeStream \n",
    "    .format(\"delta\") \n",
    "    .outputMode(\"append\") \n",
    "    .option(\"checkpointLocation\", SILVER_CHECKPOINT) \n",
    "    .trigger(availableNow=True)\n",
    "    .queryName('silver_stream') \n",
    "    .start(SILVER_DELTA))"
   ]
  },
  {
   "cell_type": "code",
   "execution_count": 0,
   "metadata": {
    "application/vnd.databricks.v1+cell": {
     "cellMetadata": {},
     "inputWidgets": {},
     "nuid": "1f752f2a-6c50-4391-9a08-ed92e2bf608f",
     "showTitle": false,
     "title": ""
    }
   },
   "outputs": [],
   "source": [
    "silver_stream.awaitTermination()"
   ]
  },
  {
   "cell_type": "markdown",
   "metadata": {
    "application/vnd.databricks.v1+cell": {
     "cellMetadata": {},
     "inputWidgets": {},
     "nuid": "9ee38aba-e340-4766-8339-71ef2ecfde3a",
     "showTitle": false,
     "title": ""
    }
   },
   "source": [
    "## 6.0 Transform the Silver Data to Gold Data using a stream\n",
    "- setup a read stream on your silver delta table\n",
    "- setup a write stream to append to the gold delta table\n",
    "- Use the defined GOLD_CHECKPOINT and GOLD_DELTA paths defines in the includes\n",
    "- name your silver to gold stream as gold_stream\n",
    "- transform the silver data to the gold data using the data definition at the top of the notebook\n",
    "- Load the pretrained transformer sentiment classifier from the MODEL_NAME at the production level from the MLflow registry\n",
    "- Use a spark UDF to parallelize the inference across your silver data"
   ]
  },
  {
   "cell_type": "code",
   "execution_count": 0,
   "metadata": {
    "application/vnd.databricks.v1+cell": {
     "cellMetadata": {
      "byteLimit": 2048000,
      "rowLimit": 10000
     },
     "inputWidgets": {},
     "nuid": "31e8949d-c016-44a7-9f03-65f471dfd22d",
     "showTitle": false,
     "title": ""
    }
   },
   "outputs": [],
   "source": [
    "# starting the read for silver\n",
    "silver_read = (\n",
    "    spark.readStream\n",
    "    .format('delta')\n",
    "    .load(SILVER_DELTA)\n",
    ")"
   ]
  },
  {
   "cell_type": "code",
   "execution_count": 0,
   "metadata": {
    "application/vnd.databricks.v1+cell": {
     "cellMetadata": {
      "byteLimit": 2048000,
      "rowLimit": 10000
     },
     "inputWidgets": {},
     "nuid": "6baf2533-994f-4379-9f15-d83da5c51da8",
     "showTitle": false,
     "title": ""
    }
   },
   "outputs": [],
   "source": [
    "# load model\n",
    "model_uri_path = f\"models:/{MODEL_NAME}/Production\"\n",
    "model = mlflow.pyfunc.spark_udf(spark, model_uri=model_uri_path)\n",
    "\n",
    "# conversion from silver to gold \n",
    "df_silver_to_gold = silver_read.withColumn(\"temp_predicted_sentiment\", model(col(\"cleaned_text\")))\n",
    "df_silver_to_gold = df_silver_to_gold.withColumn(\"predicted_score\", (col(\"temp_predicted_sentiment.score\") * 100).cast(\"int\"))\n",
    "df_silver_to_gold = df_silver_to_gold.withColumn(\"predicted_sentiment\", col(\"temp_predicted_sentiment.label\"))\n",
    "df_silver_to_gold = df_silver_to_gold.withColumn(\"sentiment_id\", when(col(\"sentiment\") == \"positive\", 1).otherwise(0))\n",
    "df_silver_to_gold = df_silver_to_gold.withColumn(\"predicted_sentiment_id\", when(col(\"predicted_sentiment\") == \"POS\", 1).otherwise(0))\n",
    "\n",
    "df_silver_to_gold = df_silver_to_gold.drop(\"temp_predicted_sentiment\")"
   ]
  },
  {
   "cell_type": "code",
   "execution_count": 0,
   "metadata": {
    "application/vnd.databricks.v1+cell": {
     "cellMetadata": {
      "byteLimit": 2048000,
      "rowLimit": 10000
     },
     "inputWidgets": {},
     "nuid": "a0cad05b-2b65-43e7-aa56-79d2813d5f52",
     "showTitle": false,
     "title": ""
    }
   },
   "outputs": [],
   "source": [
    "# starting the stream for gold table\n",
    "gold_stream = (\n",
    "    df_silver_to_gold.writeStream\n",
    "    .format(\"delta\")\n",
    "    .outputMode(\"append\")\n",
    "    .option(\"checkpointLocation\", GOLD_CHECKPOINT)\n",
    "    .trigger(availableNow=True)\n",
    "    .queryName(\"gold_stream\")\n",
    "    .start(GOLD_DELTA)\n",
    ")"
   ]
  },
  {
   "cell_type": "code",
   "execution_count": 0,
   "metadata": {
    "application/vnd.databricks.v1+cell": {
     "cellMetadata": {},
     "inputWidgets": {},
     "nuid": "7a8c84a5-1108-49d8-a0fb-a463d3e0f455",
     "showTitle": false,
     "title": ""
    }
   },
   "outputs": [],
   "source": [
    "gold_stream.awaitTermination()"
   ]
  },
  {
   "cell_type": "markdown",
   "metadata": {
    "application/vnd.databricks.v1+cell": {
     "cellMetadata": {},
     "inputWidgets": {},
     "nuid": "0494d8b4-5a55-47fc-af12-47325f34a303",
     "showTitle": false,
     "title": ""
    }
   },
   "source": [
    "## 7.0 Capture the accuracy metrics from the gold table in MLflow\n",
    "Store the following in an MLflow experiment run:\n",
    "- Store the precision, recall, and F1-score as MLflow metrics\n",
    "- Store an image of the confusion matrix as an MLflow artifact\n",
    "- Store the mdoel name and the MLflow version that was used as an MLflow parameters\n",
    "- Store the version of the Delta Table (input-silver) as an MLflow parameter"
   ]
  },
  {
   "cell_type": "code",
   "execution_count": 0,
   "metadata": {
    "application/vnd.databricks.v1+cell": {
     "cellMetadata": {
      "byteLimit": 2048000,
      "rowLimit": 10000
     },
     "inputWidgets": {},
     "nuid": "3bb174ad-67e4-4b0a-be36-ff20a760ee8b",
     "showTitle": false,
     "title": ""
    }
   },
   "outputs": [],
   "source": [
    "# starting the read for gold\n",
    "gold_read = (\n",
    "    spark.read\n",
    "    .format('delta')\n",
    "    .load(GOLD_DELTA)\n",
    ")"
   ]
  },
  {
   "cell_type": "code",
   "execution_count": 0,
   "metadata": {
    "application/vnd.databricks.v1+cell": {
     "cellMetadata": {
      "byteLimit": 2048000,
      "rowLimit": 10000
     },
     "inputWidgets": {},
     "nuid": "10cd608e-3740-48b1-b6bb-4c784e571e35",
     "showTitle": false,
     "title": ""
    }
   },
   "outputs": [],
   "source": [
    "# fetching the metrics, etc. and storing within an ML flow experiment run\n",
    " \n",
    "with mlflow.start_run() as run:\n",
    "\n",
    "    pandas_df = gold_read.toPandas()\n",
    "\n",
    "    # sentiment_true = gold_read.select(col('sentiment_id')).collect()\n",
    "    # sentiment_pred = gold_read.select(col('predicted_sentiment_id')).collect()\n",
    "\n",
    "    true_labels = pandas_df['sentiment_id']\n",
    "    pred_labels = pandas_df['predicted_sentiment_id']\n",
    "\n",
    "    precision = precision_score(true_labels, pred_labels)\n",
    "    recall = recall_score(true_labels, pred_labels)\n",
    "    f1 = f1_score(true_labels, pred_labels)\n",
    "\n",
    "    # logging the precision, recall and f1_score within the run\n",
    "    mlflow.log_metric(\"precision\", precision)\n",
    "    mlflow.log_metric(\"recall\", recall)\n",
    "    mlflow.log_metric(\"f1_score\", f1)\n",
    "\n",
    "    cmx = confusion_matrix(true_labels, pred_labels)\n",
    "\n",
    "    fig, ax = plt.subplots(figsize=(8,8))\n",
    "    disp = ConfusionMatrixDisplay(confusion_matrix=cmx)\n",
    "    disp.plot(cmap=plt.cm.Blues, ax=ax)\n",
    "    plt.savefig(\"cmx.png\")\n",
    "    plt.show()\n",
    "\n",
    "    # storing the confusion matrix as an ML artifact\n",
    "    mlflow.log_artifact(\"cmx.png\")\n",
    "\n",
    "    # storing the model_name and mlflow_version as MLFlow parameters\n",
    "    mlflow.log_param(\"model_name\",  MODEL_NAME)\n",
    "    mlflow.log_param(\"mlflow_version\", mlflow.__version__)\n",
    "\n",
    "    delta_history = DeltaTable.forPath(spark, SILVER_DELTA).history() \\\n",
    "    .select(\"version\") \\\n",
    "    .orderBy(\"version\", ascending=False)\n",
    "\n",
    "    delta_version = delta_history.collect()[0][0]\n",
    "    # storing the delta version for Silver\n",
    "    mlflow.log_param(\"delta_table_version\", delta_version)\n"
   ]
  },
  {
   "cell_type": "markdown",
   "metadata": {
    "application/vnd.databricks.v1+cell": {
     "cellMetadata": {},
     "inputWidgets": {},
     "nuid": "81e0e2de-b872-4698-81cc-1669646c2183",
     "showTitle": false,
     "title": ""
    }
   },
   "source": [
    "## 8.0 Application Data Processing and Visualization\n",
    "- How many mentions are there in the gold data total?\n",
    "- Count the number of neutral, positive and negative tweets for each mention in new columns\n",
    "- Capture the total for each mention in a new column\n",
    "- Sort the mention count totals in descending order\n",
    "- Plot a bar chart of the top 20 mentions with positive sentiment (the people who are in favor)\n",
    "- Plot a bar chart of the top 20 mentions with negative sentiment (the people who are the vilians)\n",
    "\n",
    "You may want to use the \"Loop Application\" widget to control whether you repeateded display the latest plots while the data comes in from your streams before moving on to the next section and cleaning up your run.\n",
    "\n",
    "*note: A mention is a specific twitter user that has been \"mentioned\" in a tweet with an @user reference."
   ]
  },
  {
   "cell_type": "code",
   "execution_count": 0,
   "metadata": {
    "application/vnd.databricks.v1+cell": {
     "cellMetadata": {
      "byteLimit": 2048000,
      "rowLimit": 10000
     },
     "inputWidgets": {},
     "nuid": "8250667b-eaa5-48a1-90c7-bfe11e666e32",
     "showTitle": false,
     "title": ""
    }
   },
   "outputs": [],
   "source": [
    "# getting the total number of mentions\n",
    "mentions_in_gold = gold_read.filter(col(\"mention\").isNotNull()).count()\n",
    "print(\"Number of total mentions in gold data: \",mentions_in_gold)\n",
    "\n",
    "# storing the counts of neutral, positive and negative tweets for each mention in df_agg\n",
    "df_agg = gold_read.groupBy(\"mention\").agg(\n",
    "    count(when(col(\"sentiment\") == \"neutral\", True)).alias(\"neutral_count\"),\n",
    "    count(when(col(\"sentiment\") == \"positive\", True)).alias(\"positive_count\"),\n",
    "    count(when(col(\"sentiment\") == \"negative\", True)).alias(\"negative_count\"),\n",
    "    count(\"mention\").alias(\"total_mentions\") # capturing total for each mention\n",
    ").orderBy(\"total_mentions\", ascending=False)\n",
    "\n",
    "\n",
    "# getting top 20 mentions of positive and negative sentiments\n",
    "top_positive_mentions = df_agg.orderBy(\"positive_count\", ascending=False).limit(20)\n",
    "top_negative_mentions = df_agg.orderBy(\"negative_count\", ascending=False).limit(20)\n",
    "\n",
    "\n",
    "def plot_mentions(df, title, sentiment):\n",
    "    data = df.select(\"mention\", sentiment).collect()\n",
    "    mentions = [x[\"mention\"] for x in data]\n",
    "    counts = [x[sentiment] for x in data]\n",
    "    \n",
    "    plt.figure(figsize=(10, 5))\n",
    "    plt.bar(mentions, counts, color='blue')\n",
    "    plt.xlabel('Mentions')\n",
    "    plt.ylabel('Counts')\n",
    "    plt.title(title)\n",
    "    plt.xticks(rotation=45)\n",
    "    plt.tight_layout()\n",
    "    plt.show()\n",
    "\n",
    "# Plot for top 20 positive mentions\n",
    "plot_mentions(top_positive_mentions, 'Top 20 Mentions with Positive Sentiment', 'positive_count')\n",
    "\n",
    "# Plot for top 20 negative mentions\n",
    "plot_mentions(top_negative_mentions, 'Top 20 Mentions with Negative Sentiment', 'negative_count')"
   ]
  },
  {
   "cell_type": "markdown",
   "metadata": {
    "application/vnd.databricks.v1+cell": {
     "cellMetadata": {},
     "inputWidgets": {},
     "nuid": "5d5add3f-0c13-4d81-86d8-12cf3cfdd2c8",
     "showTitle": false,
     "title": ""
    }
   },
   "source": [
    "## 9.0 Clean up and completion of your pipeline\n",
    "- using the utilities what streams are running? If any.\n",
    "- Stop all active streams\n",
    "- print out the elapsed time of your notebook."
   ]
  },
  {
   "cell_type": "code",
   "execution_count": 0,
   "metadata": {
    "application/vnd.databricks.v1+cell": {
     "cellMetadata": {
      "byteLimit": 2048000,
      "rowLimit": 10000
     },
     "inputWidgets": {},
     "nuid": "0304e685-c26e-447d-b230-c37266f30003",
     "showTitle": false,
     "title": ""
    }
   },
   "outputs": [],
   "source": [
    "# # running streams\n",
    "for stream in spark.streams.active:\n",
    "    print(stream.name)\n",
    "\n",
    "# # Stop all active streams\n",
    "stop_all_streams()"
   ]
  },
  {
   "cell_type": "code",
   "execution_count": 0,
   "metadata": {
    "application/vnd.databricks.v1+cell": {
     "cellMetadata": {
      "byteLimit": 2048000,
      "rowLimit": 10000
     },
     "inputWidgets": {},
     "nuid": "ea759fc8-1d78-4d6d-b571-e2e256448b76",
     "showTitle": false,
     "title": ""
    }
   },
   "outputs": [],
   "source": [
    "# Get the notebooks ending time note START_TIME was established in the include file when the notebook started.\n",
    "END_TIME = time.time()\n",
    "\n",
    "elapsed_time = END_TIME - START_TIME\n",
    "minutes = int(elapsed_time // 60)\n",
    "seconds = elapsed_time % 60\n",
    "print(f\"Complete elasped time: {minutes} min, {seconds:.2f} sec\")"
   ]
  },
  {
   "cell_type": "markdown",
   "metadata": {
    "application/vnd.databricks.v1+cell": {
     "cellMetadata": {},
     "inputWidgets": {},
     "nuid": "b88fc0e5-f50c-4ed1-9480-16a4c8a44b30",
     "showTitle": false,
     "title": ""
    }
   },
   "source": [
    "## 10.0 How Optimized is your Spark Application (Grad Students Only)\n",
    "Graduate students (registered for the DSCC-402 section of the course) are required to do this section.  This is a written analysis using the Spark UI (link to screen shots) that support your analysis of your pipelines execution and what is driving its performance.\n",
    "Recall that Spark Optimization has 5 significant dimensions of considertation:\n",
    "- Spill: write to executor disk due to lack of memory\n",
    "- Skew: imbalance in partition size\n",
    "- Shuffle: network io moving data between executors (wide transforms)\n",
    "- Storage: inefficiency due to disk storage format (small files, location)\n",
    "- Serialization: distribution of code segments across the cluster\n",
    "\n",
    "Comment on each of the dimentions of performance and how your impelementation is or is not being affected.  Use specific information in the Spark UI to support your description.  \n",
    "\n",
    "Note: you can take sreenshots of the Spark UI from your project runs in databricks and then link to those pictures by storing them as a publicly accessible file on your cloud drive (google, one drive, etc.)\n",
    "\n",
    "References:\n",
    "- [Spark UI Reference Reference](https://spark.apache.org/docs/latest/web-ui.html#web-ui)\n",
    "- [Spark UI Simulator](https://www.databricks.training/spark-ui-simulator/index.html)"
   ]
  },
  {
   "cell_type": "markdown",
   "metadata": {
    "application/vnd.databricks.v1+cell": {
     "cellMetadata": {},
     "inputWidgets": {},
     "nuid": "a0a5707d-a5ca-4e87-9e74-3b13d00337b0",
     "showTitle": false,
     "title": ""
    }
   },
   "source": [
    "### ENTER YOUR MARKDOWN HERE\n",
    "\n",
    "Spill:\n",
    "The system shows no signs of data spill, evidenced by even partition sizes and small source files.\n",
    "Absence of large files prevents issues like uneven load and processing, avoiding performance problems from disk spills.\n",
    "\n",
    "Skew:\n",
    "Data is evenly distributed in job executions, helped by uniform file sizes and Adaptive Query Execution optimizing partitions.\n",
    "This even distribution means no single node is overwhelmed, preventing bottlenecks.\n",
    "\n",
    "Shuffle:\n",
    "Shuffle operations are common, needed for tasks like GroupBy and OrderBy.\n",
    "Adjusting the number of shuffle partitions to match the number of cores helps optimize data movement and reduces shuffle delays.\n",
    "Implication: Strategic shuffle configuration minimizes the time delays in these necessary operations.\n",
    "\n",
    "Storage:\n",
    "Storing many small JSON files in S3 initially leads to slow read times.\n",
    "After the initial read, data is stored more efficiently in Bronze, Silver, and Gold Delta tables. Focus on improving the initial file handling by possibly consolidating files or tweaking the read process.\n",
    "\n",
    "Serialization:\n",
    "Serializing the ML model for sentiment analysis as a UDF takes significant time.\n",
    "While replacing the UDF isn't an option, optimizing other UDFs and considering built-in Spark functions could improve efficiency and reduce dependence on slower custom UDFs."
   ]
  },
  {
   "cell_type": "markdown",
   "metadata": {
    "application/vnd.databricks.v1+cell": {
     "cellMetadata": {},
     "inputWidgets": {},
     "nuid": "d18502bd-2b91-4032-9581-4c69f7e26e55",
     "showTitle": false,
     "title": ""
    }
   },
   "source": []
  }
 ],
 "metadata": {
  "application/vnd.databricks.v1+notebook": {
   "dashboards": [],
   "language": "python",
   "notebookMetadata": {
    "mostRecentlyExecutedCommandWithImplicitDF": {
     "commandId": -1,
     "dataframes": [
      "_sqldf"
     ]
    },
    "pythonIndentUnit": 4,
    "widgetLayout": [
     {
      "breakBefore": false,
      "name": "clear_previous_run",
      "width": 203
     },
     {
      "breakBefore": false,
      "name": "stop_streams",
      "width": 203
     }
    ]
   },
   "notebookName": "Starter Streaming Tweet Sentiment - Spring 2024 Final Project",
   "widgets": {
    "clear_previous_run": {
     "currentValue": "No",
     "nuid": "11b43403-c70f-41ef-ab0e-41172583baaa",
     "typedWidgetInfo": null,
     "widgetInfo": {
      "widgetType": "dropdown",
      "defaultValue": "No",
      "label": null,
      "name": "clear_previous_run",
      "options": {
       "widgetType": "dropdown",
       "autoCreated": null,
       "choices": [
        "No",
        "Yes"
       ]
      }
     }
    },
    "optimize_tables": {
     "currentValue": "No",
     "nuid": "d27f2950-3146-4010-8bc6-58c47a93e7a9",
     "typedWidgetInfo": null,
     "widgetInfo": {
      "widgetType": "dropdown",
      "defaultValue": "No",
      "label": null,
      "name": "optimize_tables",
      "options": {
       "widgetType": "dropdown",
       "autoCreated": null,
       "choices": [
        "No",
        "Yes"
       ]
      }
     }
    },
    "stop_streams": {
     "currentValue": "No",
     "nuid": "d70a2190-266e-473c-86a7-84f7bf56b386",
     "typedWidgetInfo": null,
     "widgetInfo": {
      "widgetType": "dropdown",
      "defaultValue": "No",
      "label": null,
      "name": "stop_streams",
      "options": {
       "widgetType": "dropdown",
       "autoCreated": null,
       "choices": [
        "No",
        "Yes"
       ]
      }
     }
    }
   }
  }
 },
 "nbformat": 4,
 "nbformat_minor": 0
}
